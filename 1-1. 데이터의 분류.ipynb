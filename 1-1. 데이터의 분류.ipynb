{
 "cells": [
  {
   "cell_type": "code",
   "execution_count": 1,
   "id": "e9e53c6d",
   "metadata": {},
   "outputs": [
    {
     "name": "stdout",
     "output_type": "stream",
     "text": [
      "pandas 0.25.1\n",
      "numpy 1.18.5\n"
     ]
    }
   ],
   "source": [
    "import pandas as pd\n",
    "import numpy as np\n",
    "\n",
    "for i in [pd, np]:\n",
    "    print(i.__name__, i.__version__)"
   ]
  },
  {
   "cell_type": "markdown",
   "id": "18ee81d5",
   "metadata": {},
   "source": [
    "# 1-1 데이터의 분류\n",
    "\n",
    "데이터의 종류에는 어떤 것들이 있는지 정리해봅니다.\n",
    "\n",
    "## 0. 데이터셋 소개\n",
    "\n",
    "### Titanic\n",
    "\n",
    "[Titanic](https://www.kaggle.com/competitions/titanic/data) 탑승객의 생존 유무를 담은 데이터셋 입니다.\n",
    "\n",
    "|Data|Description|Dictionary|\n",
    "|:----|:----------|:---|\n",
    "|PassengerId|Passenger Id, Index||\n",
    "|Survived|Survival|0 = No, 1 = Yes|\n",
    "|Pclass|Ticket class|1 = 1st, 2 = 2nd, 3 = 3rd|\n",
    "|Name|Name| |\n",
    "|Sex|Sex| |\n",
    "|Age|Age in years| |\n",
    "|Sibsp|# of siblings / spouses aboard the Titanic| |\n",
    "|Parch|# of parents / children aboard the Titanic| |\n",
    "|Ticket|Ticket number| |\n",
    "|Fare|Passenger fare| |\n",
    "|Cabin|Cabin number| |\n",
    "|Embarked|Port of Embarkation|C = Cherbourg, Q = Queenstown, S = Southampton|\n",
    "\n",
    "\n",
    "다양한 형식의 데이터를 가지고 있으며, 여러 가지 아이디어를 생각하고 시도할 만한 요소가 많게끔 기획된 데이터셋입니다."
   ]
  },
  {
   "cell_type": "code",
   "execution_count": 2,
   "id": "72f87858",
   "metadata": {},
   "outputs": [
    {
     "data": {
      "text/html": [
       "<div>\n",
       "<style scoped>\n",
       "    .dataframe tbody tr th:only-of-type {\n",
       "        vertical-align: middle;\n",
       "    }\n",
       "\n",
       "    .dataframe tbody tr th {\n",
       "        vertical-align: top;\n",
       "    }\n",
       "\n",
       "    .dataframe thead th {\n",
       "        text-align: right;\n",
       "    }\n",
       "</style>\n",
       "<table border=\"1\" class=\"dataframe\">\n",
       "  <thead>\n",
       "    <tr style=\"text-align: right;\">\n",
       "      <th></th>\n",
       "      <th>PassengerId</th>\n",
       "      <th>Survived</th>\n",
       "      <th>Pclass</th>\n",
       "      <th>Name</th>\n",
       "      <th>Sex</th>\n",
       "      <th>Age</th>\n",
       "      <th>SibSp</th>\n",
       "      <th>Parch</th>\n",
       "      <th>Ticket</th>\n",
       "      <th>Fare</th>\n",
       "      <th>Cabin</th>\n",
       "      <th>Embarked</th>\n",
       "    </tr>\n",
       "  </thead>\n",
       "  <tbody>\n",
       "    <tr>\n",
       "      <td>0</td>\n",
       "      <td>1</td>\n",
       "      <td>0</td>\n",
       "      <td>3</td>\n",
       "      <td>Braund, Mr. Owen Harris</td>\n",
       "      <td>male</td>\n",
       "      <td>22.0</td>\n",
       "      <td>1</td>\n",
       "      <td>0</td>\n",
       "      <td>A/5 21171</td>\n",
       "      <td>7.2500</td>\n",
       "      <td>NaN</td>\n",
       "      <td>S</td>\n",
       "    </tr>\n",
       "    <tr>\n",
       "      <td>1</td>\n",
       "      <td>2</td>\n",
       "      <td>1</td>\n",
       "      <td>1</td>\n",
       "      <td>Cumings, Mrs. John Bradley (Florence Briggs Th...</td>\n",
       "      <td>female</td>\n",
       "      <td>38.0</td>\n",
       "      <td>1</td>\n",
       "      <td>0</td>\n",
       "      <td>PC 17599</td>\n",
       "      <td>71.2833</td>\n",
       "      <td>C85</td>\n",
       "      <td>C</td>\n",
       "    </tr>\n",
       "    <tr>\n",
       "      <td>2</td>\n",
       "      <td>3</td>\n",
       "      <td>1</td>\n",
       "      <td>3</td>\n",
       "      <td>Heikkinen, Miss. Laina</td>\n",
       "      <td>female</td>\n",
       "      <td>26.0</td>\n",
       "      <td>0</td>\n",
       "      <td>0</td>\n",
       "      <td>STON/O2. 3101282</td>\n",
       "      <td>7.9250</td>\n",
       "      <td>NaN</td>\n",
       "      <td>S</td>\n",
       "    </tr>\n",
       "    <tr>\n",
       "      <td>3</td>\n",
       "      <td>4</td>\n",
       "      <td>1</td>\n",
       "      <td>1</td>\n",
       "      <td>Futrelle, Mrs. Jacques Heath (Lily May Peel)</td>\n",
       "      <td>female</td>\n",
       "      <td>35.0</td>\n",
       "      <td>1</td>\n",
       "      <td>0</td>\n",
       "      <td>113803</td>\n",
       "      <td>53.1000</td>\n",
       "      <td>C123</td>\n",
       "      <td>S</td>\n",
       "    </tr>\n",
       "    <tr>\n",
       "      <td>4</td>\n",
       "      <td>5</td>\n",
       "      <td>0</td>\n",
       "      <td>3</td>\n",
       "      <td>Allen, Mr. William Henry</td>\n",
       "      <td>male</td>\n",
       "      <td>35.0</td>\n",
       "      <td>0</td>\n",
       "      <td>0</td>\n",
       "      <td>373450</td>\n",
       "      <td>8.0500</td>\n",
       "      <td>NaN</td>\n",
       "      <td>S</td>\n",
       "    </tr>\n",
       "  </tbody>\n",
       "</table>\n",
       "</div>"
      ],
      "text/plain": [
       "   PassengerId  Survived  Pclass  \\\n",
       "0            1         0       3   \n",
       "1            2         1       1   \n",
       "2            3         1       3   \n",
       "3            4         1       1   \n",
       "4            5         0       3   \n",
       "\n",
       "                                                Name     Sex   Age  SibSp  \\\n",
       "0                            Braund, Mr. Owen Harris    male  22.0      1   \n",
       "1  Cumings, Mrs. John Bradley (Florence Briggs Th...  female  38.0      1   \n",
       "2                             Heikkinen, Miss. Laina  female  26.0      0   \n",
       "3       Futrelle, Mrs. Jacques Heath (Lily May Peel)  female  35.0      1   \n",
       "4                           Allen, Mr. William Henry    male  35.0      0   \n",
       "\n",
       "   Parch            Ticket     Fare Cabin Embarked  \n",
       "0      0         A/5 21171   7.2500   NaN        S  \n",
       "1      0          PC 17599  71.2833   C85        C  \n",
       "2      0  STON/O2. 3101282   7.9250   NaN        S  \n",
       "3      0            113803  53.1000  C123        S  \n",
       "4      0            373450   8.0500   NaN        S  "
      ]
     },
     "execution_count": 2,
     "metadata": {},
     "output_type": "execute_result"
    }
   ],
   "source": [
    "df_titanic = pd.read_csv('data/titanic.csv')\n",
    "df_titanic.head()"
   ]
  },
  {
   "cell_type": "markdown",
   "id": "fb501d47",
   "metadata": {},
   "source": [
    "## 1.데이터의 종류\n",
    "    \n",
    "### 정형 데이터(Structured Data)\n",
    "\n",
    "- 구조화된 형식을 가지며, 행과 열로 이루어진 표 형태를 이룹니다. 열(Column)은 특정 유형의 데이터를 포함하고, 행(Row)은 고유한 레코드를 나타냅니다.  \n",
    "    \n",
    "      Ex) CSV 파일. 관계형 DB의 테이블, ...\n"
   ]
  },
  {
   "cell_type": "markdown",
   "id": "5191211d",
   "metadata": {},
   "source": [
    "#### 정형 데이터의 분류\n",
    "\n",
    "1. 질적 데이터(Qualitative data): 품질, 특성 또는 특성의 유무를 나타내는 비수치적 데이터입니다. 범주형 데이터라고도 불립니다. 수학적 계산이 가능하더라도 의미는 없습니다.\n",
    "\n",
    "<div style=\"padding: 5px; margin-left: 15px;\">\n",
    "\n",
    "- 명목형 데이터(nominal data): 순서의 개념이 없습니다. Ex) 색상, 국가\n",
    "\n",
    "    \n",
    "- 서열형 데이터(ordinal data): 순서의 개념이 있습니다. Ex) 직급, 난이도\n",
    "\n",
    "</div>\n",
    "\n",
    "2. 양적 데이터(Quantitative data): 양이나 수치를 나타낼 수 있는 데이터로, 수학적 계산이 가능한 데이터입니다.\n",
    "\n",
    "<div style=\"padding: 5px; margin-left: 15px;\">\n",
    "\n",
    "  - 연속형 데이터(continuous data): 실수와 같은 연속적인 수치를 나타내는 데이터입니다. Ex) 키, 무게, 온도\n",
    "\n",
    "    \n",
    "  - 이산형 자료(discrete data): 정수와 같이 불연속적인 수치를 나타내는 데이터입니다. Ex) 출석 인원수, 무사고 일수\n",
    "</div>"
   ]
  },
  {
   "cell_type": "markdown",
   "id": "37fe38ee",
   "metadata": {},
   "source": [
    "**[Ex.1]** \n",
    "\n",
    "<div style=\"border: 1px solid #ddd; padding: 12px; margin-top: 10px;\">\n",
    "\n",
    "df_titanic의 질적 데이터들을 살펴봅니다.\n",
    "    \n",
    "</div>"
   ]
  },
  {
   "cell_type": "code",
   "execution_count": 15,
   "id": "8af33023",
   "metadata": {},
   "outputs": [
    {
     "data": {
      "text/plain": [
       "Survived            [0, 1]\n",
       "Pclass           [3, 1, 2]\n",
       "Sex         [male, female]\n",
       "Embarked         [S, C, Q]\n",
       "dtype: object"
      ]
     },
     "execution_count": 15,
     "metadata": {},
     "output_type": "execute_result"
    }
   ],
   "source": [
    "# 질적 데이터의 수준들을 가져옵니다.\n",
    "df_titanic[['Survived', 'Pclass', 'Sex', 'Embarked']].apply( # 각 열에 대한 연산을 수행하게 합니다.\n",
    "    lambda x: x.loc[x.notna()].unique().tolist() # 결측을 제거한 후 유일값을 뽑습니다.\n",
    ")"
   ]
  },
  {
   "cell_type": "markdown",
   "id": "d859286a",
   "metadata": {},
   "source": [
    "Survived, Sex, Embarked는 명목형 데이터이고, Pclass는 서열형 데이터입니다."
   ]
  },
  {
   "cell_type": "code",
   "execution_count": 16,
   "id": "6c576955",
   "metadata": {},
   "outputs": [
    {
     "data": {
      "text/plain": [
       "0        1\n",
       "1        2\n",
       "2        3\n",
       "3        4\n",
       "4        5\n",
       "      ... \n",
       "886    887\n",
       "887    888\n",
       "888    889\n",
       "889    890\n",
       "890    891\n",
       "Name: PassengerId, Length: 891, dtype: int64"
      ]
     },
     "execution_count": 16,
     "metadata": {},
     "output_type": "execute_result"
    }
   ],
   "source": [
    "# PassengerId는 정수형이지만 명목형 데이터입니다.사칙연산이 성립하지 않습니다.\n",
    "# (PassengerId 1 + PassengerId 2 ≠ PassengerId 3)\n",
    "df_titanic['PassengerId']"
   ]
  },
  {
   "cell_type": "markdown",
   "id": "d41417aa",
   "metadata": {},
   "source": [
    "Cabin은 명목형 데이터와 정수형 데이터가 결합되어 있고 단일 객체를 나타내는 것이 아닌 복수의 객체를 나타내도록 되어 있습니다.\n",
    "\n",
    "C85, B53 B55, ..."
   ]
  },
  {
   "cell_type": "markdown",
   "id": "62289df7",
   "metadata": {},
   "source": [
    "**[Ex.2]** \n",
    "\n",
    "<div style=\"border: 1px solid #ddd; padding: 12px; margin-top: 10px;\">\n",
    "\n",
    "df_titanic의 양적 데이터를 살펴봅니다.\n",
    "    \n",
    "</div>"
   ]
  },
  {
   "cell_type": "code",
   "execution_count": 5,
   "id": "694baa4d",
   "metadata": {},
   "outputs": [
    {
     "data": {
      "text/html": [
       "<div>\n",
       "<style scoped>\n",
       "    .dataframe tbody tr th:only-of-type {\n",
       "        vertical-align: middle;\n",
       "    }\n",
       "\n",
       "    .dataframe tbody tr th {\n",
       "        vertical-align: top;\n",
       "    }\n",
       "\n",
       "    .dataframe thead th {\n",
       "        text-align: right;\n",
       "    }\n",
       "</style>\n",
       "<table border=\"1\" class=\"dataframe\">\n",
       "  <thead>\n",
       "    <tr style=\"text-align: right;\">\n",
       "      <th></th>\n",
       "      <th>Age</th>\n",
       "      <th>SibSp</th>\n",
       "      <th>Parch</th>\n",
       "    </tr>\n",
       "  </thead>\n",
       "  <tbody>\n",
       "    <tr>\n",
       "      <td>0</td>\n",
       "      <td>22.0</td>\n",
       "      <td>1</td>\n",
       "      <td>0</td>\n",
       "    </tr>\n",
       "    <tr>\n",
       "      <td>1</td>\n",
       "      <td>38.0</td>\n",
       "      <td>1</td>\n",
       "      <td>0</td>\n",
       "    </tr>\n",
       "    <tr>\n",
       "      <td>2</td>\n",
       "      <td>26.0</td>\n",
       "      <td>0</td>\n",
       "      <td>0</td>\n",
       "    </tr>\n",
       "    <tr>\n",
       "      <td>3</td>\n",
       "      <td>35.0</td>\n",
       "      <td>1</td>\n",
       "      <td>0</td>\n",
       "    </tr>\n",
       "    <tr>\n",
       "      <td>4</td>\n",
       "      <td>35.0</td>\n",
       "      <td>0</td>\n",
       "      <td>0</td>\n",
       "    </tr>\n",
       "    <tr>\n",
       "      <td>...</td>\n",
       "      <td>...</td>\n",
       "      <td>...</td>\n",
       "      <td>...</td>\n",
       "    </tr>\n",
       "    <tr>\n",
       "      <td>886</td>\n",
       "      <td>27.0</td>\n",
       "      <td>0</td>\n",
       "      <td>0</td>\n",
       "    </tr>\n",
       "    <tr>\n",
       "      <td>887</td>\n",
       "      <td>19.0</td>\n",
       "      <td>0</td>\n",
       "      <td>0</td>\n",
       "    </tr>\n",
       "    <tr>\n",
       "      <td>888</td>\n",
       "      <td>NaN</td>\n",
       "      <td>1</td>\n",
       "      <td>2</td>\n",
       "    </tr>\n",
       "    <tr>\n",
       "      <td>889</td>\n",
       "      <td>26.0</td>\n",
       "      <td>0</td>\n",
       "      <td>0</td>\n",
       "    </tr>\n",
       "    <tr>\n",
       "      <td>890</td>\n",
       "      <td>32.0</td>\n",
       "      <td>0</td>\n",
       "      <td>0</td>\n",
       "    </tr>\n",
       "  </tbody>\n",
       "</table>\n",
       "<p>891 rows × 3 columns</p>\n",
       "</div>"
      ],
      "text/plain": [
       "      Age  SibSp  Parch\n",
       "0    22.0      1      0\n",
       "1    38.0      1      0\n",
       "2    26.0      0      0\n",
       "3    35.0      1      0\n",
       "4    35.0      0      0\n",
       "..    ...    ...    ...\n",
       "886  27.0      0      0\n",
       "887  19.0      0      0\n",
       "888   NaN      1      2\n",
       "889  26.0      0      0\n",
       "890  32.0      0      0\n",
       "\n",
       "[891 rows x 3 columns]"
      ]
     },
     "execution_count": 5,
     "metadata": {},
     "output_type": "execute_result"
    }
   ],
   "source": [
    "# 수치를 나타내는 정수형 데이터입니다. \n",
    "df_titanic[['Age', 'SibSp', 'Parch']]"
   ]
  },
  {
   "cell_type": "code",
   "execution_count": 6,
   "id": "b39e49bc",
   "metadata": {},
   "outputs": [
    {
     "data": {
      "text/plain": [
       "0       7.2500\n",
       "1      71.2833\n",
       "2       7.9250\n",
       "3      53.1000\n",
       "4       8.0500\n",
       "        ...   \n",
       "886    13.0000\n",
       "887    30.0000\n",
       "888    23.4500\n",
       "889    30.0000\n",
       "890     7.7500\n",
       "Name: Fare, Length: 891, dtype: float64"
      ]
     },
     "execution_count": 6,
     "metadata": {},
     "output_type": "execute_result"
    }
   ],
   "source": [
    "# 수치를 나타내는 실수형 데이터입니다.\n",
    "df_titanic['Fare']"
   ]
  },
  {
   "cell_type": "markdown",
   "id": "2dfe13bc",
   "metadata": {},
   "source": [
    "**[Ex.3]**\n",
    "\n",
    "<div style=\"border: 1px solid #ddd; padding: 12px; margin-top: 10px;\">\n",
    "\n",
    "Cabin의 첫자리는 객실 유형을 그 다음 숫자는 객실의 위치를 나타냅니다. \n",
    "    \n",
    "결측이 아닌 Cabin만을 뽑고,객실 유형을 분리하여 Cabin_Type 변수를 만들고, \n",
    "    \n",
    "객실 위치를 분리하여 Cabin_No 변수를 만듭니다.\n",
    "    \n",
    "</div>"
   ]
  },
  {
   "cell_type": "code",
   "execution_count": 17,
   "id": "069b42d7",
   "metadata": {},
   "outputs": [
    {
     "data": {
      "text/plain": [
       "array(['C85', 'C123', 'E46', 'G6', 'C103', 'D56', 'A6', 'C23 C25 C27',\n",
       "       'B78', 'D33', 'B30', 'C52', 'B28', 'C83', 'F33', 'F G73', 'E31',\n",
       "       'A5', 'D10 D12', 'D26', 'C110', 'B58 B60', 'E101', 'F E69', 'D47',\n",
       "       'B86', 'F2', 'C2', 'E33', 'B19', 'A7', 'C49', 'F4', 'A32', 'B4',\n",
       "       'B80', 'A31', 'D36', 'D15', 'C93', 'C78', 'D35', 'C87', 'B77',\n",
       "       'E67', 'B94', 'C125', 'C99', 'C118', 'D7', 'A19', 'B49', 'D',\n",
       "       'C22 C26', 'C106', 'C65', 'E36', 'C54', 'B57 B59 B63 B66', 'C7',\n",
       "       'E34', 'C32', 'B18', 'C124', 'C91', 'E40', 'T', 'C128', 'D37',\n",
       "       'B35', 'E50', 'C82', 'B96 B98', 'E10', 'E44', 'A34', 'C104',\n",
       "       'C111', 'C92', 'E38', 'D21', 'E12', 'E63', 'A14', 'B37', 'C30',\n",
       "       'D20', 'B79', 'E25', 'D46', 'B73', 'C95', 'B38', 'B39', 'B22',\n",
       "       'C86', 'C70', 'A16', 'C101', 'C68', 'A10', 'E68', 'B41', 'A20',\n",
       "       'D19', 'D50', 'D9', 'A23', 'B50', 'A26', 'D48', 'E58', 'C126',\n",
       "       'B71', 'B51 B53 B55', 'D49', 'B5', 'B20', 'F G63', 'C62 C64',\n",
       "       'E24', 'C90', 'C45', 'E8', 'B101', 'D45', 'C46', 'D30', 'E121',\n",
       "       'D11', 'E77', 'F38', 'B3', 'D6', 'B82 B84', 'D17', 'A36', 'B102',\n",
       "       'B69', 'E49', 'C47', 'D28', 'E17', 'A24', 'C50', 'B42', 'C148'],\n",
       "      dtype=object)"
      ]
     },
     "execution_count": 17,
     "metadata": {},
     "output_type": "execute_result"
    }
   ],
   "source": [
    "df_titanic.loc[df_titanic['Cabin'].notna(), 'Cabin'].unique()"
   ]
  },
  {
   "cell_type": "code",
   "execution_count": 8,
   "id": "ab8795b1",
   "metadata": {},
   "outputs": [
    {
     "data": {
      "text/html": [
       "<div>\n",
       "<style scoped>\n",
       "    .dataframe tbody tr th:only-of-type {\n",
       "        vertical-align: middle;\n",
       "    }\n",
       "\n",
       "    .dataframe tbody tr th {\n",
       "        vertical-align: top;\n",
       "    }\n",
       "\n",
       "    .dataframe thead th {\n",
       "        text-align: right;\n",
       "    }\n",
       "</style>\n",
       "<table border=\"1\" class=\"dataframe\">\n",
       "  <thead>\n",
       "    <tr style=\"text-align: right;\">\n",
       "      <th></th>\n",
       "      <th>Cabin_Type</th>\n",
       "      <th>Cabin_No</th>\n",
       "    </tr>\n",
       "  </thead>\n",
       "  <tbody>\n",
       "    <tr>\n",
       "      <td>1</td>\n",
       "      <td>C</td>\n",
       "      <td>85</td>\n",
       "    </tr>\n",
       "    <tr>\n",
       "      <td>3</td>\n",
       "      <td>C</td>\n",
       "      <td>123</td>\n",
       "    </tr>\n",
       "    <tr>\n",
       "      <td>6</td>\n",
       "      <td>E</td>\n",
       "      <td>46</td>\n",
       "    </tr>\n",
       "    <tr>\n",
       "      <td>10</td>\n",
       "      <td>G</td>\n",
       "      <td>6</td>\n",
       "    </tr>\n",
       "    <tr>\n",
       "      <td>11</td>\n",
       "      <td>C</td>\n",
       "      <td>103</td>\n",
       "    </tr>\n",
       "    <tr>\n",
       "      <td>...</td>\n",
       "      <td>...</td>\n",
       "      <td>...</td>\n",
       "    </tr>\n",
       "    <tr>\n",
       "      <td>872</td>\n",
       "      <td>B</td>\n",
       "      <td>53</td>\n",
       "    </tr>\n",
       "    <tr>\n",
       "      <td>872</td>\n",
       "      <td>B</td>\n",
       "      <td>55</td>\n",
       "    </tr>\n",
       "    <tr>\n",
       "      <td>879</td>\n",
       "      <td>C</td>\n",
       "      <td>50</td>\n",
       "    </tr>\n",
       "    <tr>\n",
       "      <td>887</td>\n",
       "      <td>B</td>\n",
       "      <td>42</td>\n",
       "    </tr>\n",
       "    <tr>\n",
       "      <td>889</td>\n",
       "      <td>C</td>\n",
       "      <td>148</td>\n",
       "    </tr>\n",
       "  </tbody>\n",
       "</table>\n",
       "<p>238 rows × 2 columns</p>\n",
       "</div>"
      ],
      "text/plain": [
       "    Cabin_Type Cabin_No\n",
       "1            C       85\n",
       "3            C      123\n",
       "6            E       46\n",
       "10           G        6\n",
       "11           C      103\n",
       "..         ...      ...\n",
       "872          B       53\n",
       "872          B       55\n",
       "879          C       50\n",
       "887          B       42\n",
       "889          C      148\n",
       "\n",
       "[238 rows x 2 columns]"
      ]
     },
     "execution_count": 8,
     "metadata": {},
     "output_type": "execute_result"
    }
   ],
   "source": [
    "# 여러 객실을 포함된 경우를 처리하기 위해,\n",
    "# 1. 미결측치를 가져온후 Cabin 문자열을 공백으로 나눕니다. → 리스트로 구성된 Series가 나옵니다.\n",
    "# 2. 리스트의 요소 각각을 Series의 요소로 꺼내어, Series에 하나의 Cabin 정보가 위치하도록 합니다.\n",
    "# 3. Cabin의 맨앞자리는 객실 유형을 나타냅니다. 이를 Cabin_Type으로 이후는 객실 번호를 나타내는 Cabin_No로 분리합니다.\n",
    "df_titanic.loc[df_titanic['Cabin'].notna(), 'Cabin'].str.split(' ')\\\n",
    "        .explode()\\\n",
    "        .apply(\n",
    "            lambda x: pd.Series((x[:1], x[1:]), index=['Cabin_Type', 'Cabin_No'])\n",
    "        )"
   ]
  },
  {
   "cell_type": "markdown",
   "id": "f8577476",
   "metadata": {},
   "source": [
    "#### 비정형 데이터(Unstructured Data)\n",
    "\n",
    "- 구조가 없거나 제한적인 구조를 가지고 있지 않은 데이터입니다. Ex) 텍스트, 음성, 비디오, ..."
   ]
  },
  {
   "cell_type": "markdown",
   "id": "520a8758",
   "metadata": {},
   "source": [
    "#### 반정형 데이터(Semi-Structured Data)\n",
    "\n",
    " - 일정한 형식을 지니고 있지만 완전한 정형 데이터는 아닌 데이터입니다. \n",
    "  \n",
    " XML\n",
    " \n",
    " ```xml\n",
    " <person>\n",
    "  <name>John Doe</name>\n",
    "  <age>30</age>\n",
    "  <address>\n",
    "    <city>New York</city>\n",
    "    <zipcode>10001</zipcode>\n",
    "  </address>\n",
    "  <contacts>\n",
    "    <email>john.doe@example.com</email>\n",
    "    <phone>123-456-7890</phone>\n",
    "  </contacts>\n",
    "</person>\n",
    " ```\n",
    " \n",
    " JSON\n",
    " \n",
    "```json\n",
    "{\n",
    "  \"person\": {\n",
    "    \"name\": \"John Doe\",\n",
    "    \"age\": 30,\n",
    "    \"address\": {\n",
    "      \"city\": \"New York\",\n",
    "      \"zipcode\": \"10001\"\n",
    "    },\n",
    "    \"contacts\": {\n",
    "      \"email\": \"john.doe@example.com\",\n",
    "      \"phone\": \"123-456-7890\"\n",
    "    }\n",
    "  }\n",
    "}\n",
    "```\n",
    " "
   ]
  },
  {
   "cell_type": "markdown",
   "id": "5cad7116",
   "metadata": {},
   "source": [
    "## 2. 정형 데이터의 구성 요소\n",
    "\n",
    "\n",
    "### Series\n",
    "\n",
    "- **1**차원의 **인덱스**가 부여된 자료 저장 공간\n",
    "  \n",
    "  - **인덱스**(Index): 요소에 부여된 색인 데이터"
   ]
  },
  {
   "cell_type": "code",
   "execution_count": 9,
   "id": "4b2be96b",
   "metadata": {},
   "outputs": [
    {
     "data": {
      "text/plain": [
       "a     1\n",
       "b     5\n",
       "c     3\n",
       "d    10\n",
       "e     7\n",
       "dtype: int64"
      ]
     },
     "execution_count": 9,
     "metadata": {},
     "output_type": "execute_result"
    }
   ],
   "source": [
    "# Series를 만들어봅니다.\n",
    "s = pd.Series(\n",
    "   [1, 5, 3, 10, 7], index=['a', 'b', 'c', 'd', 'e']\n",
    ")\n",
    "s"
   ]
  },
  {
   "cell_type": "code",
   "execution_count": 10,
   "id": "5382bba9",
   "metadata": {},
   "outputs": [
    {
     "data": {
      "text/plain": [
       "a     1\n",
       "d    10\n",
       "dtype: int64"
      ]
     },
     "execution_count": 10,
     "metadata": {},
     "output_type": "execute_result"
    }
   ],
   "source": [
    "# 인덱스로 조회를 해봅니다.\n",
    "# 'a', 'd' 의 값을  가져옵니다.\n",
    "s.loc[['a', 'd']]"
   ]
  },
  {
   "cell_type": "code",
   "execution_count": 11,
   "id": "365f54c3",
   "metadata": {},
   "outputs": [
    {
     "data": {
      "text/plain": [
       "a    1\n",
       "e    7\n",
       "dtype: int64"
      ]
     },
     "execution_count": 11,
     "metadata": {},
     "output_type": "execute_result"
    }
   ],
   "source": [
    "# 위치 인덱스로 탐색을 해봅니다\n",
    "# 처음과 마지막을 가져옵니다.\n",
    "s.iloc[[0, -1]]"
   ]
  },
  {
   "cell_type": "markdown",
   "id": "ff8a0a72",
   "metadata": {},
   "source": [
    "### DataFrame\n",
    "\n",
    "- **2**차원의 **인덱스**가 부여된 자료 저장 공간. \n",
    "\n",
    "1. 인덱스(Index): 행(row)에 부여된 색인 데이터\n",
    "\n",
    "\n",
    "2. 컬럼(Column): 열(column)에 부여된 색인 데이터"
   ]
  },
  {
   "cell_type": "code",
   "execution_count": 12,
   "id": "551a3c24",
   "metadata": {},
   "outputs": [
    {
     "data": {
      "text/html": [
       "<div>\n",
       "<style scoped>\n",
       "    .dataframe tbody tr th:only-of-type {\n",
       "        vertical-align: middle;\n",
       "    }\n",
       "\n",
       "    .dataframe tbody tr th {\n",
       "        vertical-align: top;\n",
       "    }\n",
       "\n",
       "    .dataframe thead th {\n",
       "        text-align: right;\n",
       "    }\n",
       "</style>\n",
       "<table border=\"1\" class=\"dataframe\">\n",
       "  <thead>\n",
       "    <tr style=\"text-align: right;\">\n",
       "      <th></th>\n",
       "      <th>PassengerId</th>\n",
       "      <th>Survived</th>\n",
       "      <th>Pclass</th>\n",
       "      <th>Name</th>\n",
       "      <th>Sex</th>\n",
       "      <th>Age</th>\n",
       "      <th>SibSp</th>\n",
       "      <th>Parch</th>\n",
       "      <th>Ticket</th>\n",
       "      <th>Fare</th>\n",
       "      <th>Cabin</th>\n",
       "      <th>Embarked</th>\n",
       "    </tr>\n",
       "  </thead>\n",
       "  <tbody>\n",
       "    <tr>\n",
       "      <td>0</td>\n",
       "      <td>1</td>\n",
       "      <td>0</td>\n",
       "      <td>3</td>\n",
       "      <td>Braund, Mr. Owen Harris</td>\n",
       "      <td>male</td>\n",
       "      <td>22.0</td>\n",
       "      <td>1</td>\n",
       "      <td>0</td>\n",
       "      <td>A/5 21171</td>\n",
       "      <td>7.2500</td>\n",
       "      <td>NaN</td>\n",
       "      <td>S</td>\n",
       "    </tr>\n",
       "    <tr>\n",
       "      <td>1</td>\n",
       "      <td>2</td>\n",
       "      <td>1</td>\n",
       "      <td>1</td>\n",
       "      <td>Cumings, Mrs. John Bradley (Florence Briggs Th...</td>\n",
       "      <td>female</td>\n",
       "      <td>38.0</td>\n",
       "      <td>1</td>\n",
       "      <td>0</td>\n",
       "      <td>PC 17599</td>\n",
       "      <td>71.2833</td>\n",
       "      <td>C85</td>\n",
       "      <td>C</td>\n",
       "    </tr>\n",
       "    <tr>\n",
       "      <td>2</td>\n",
       "      <td>3</td>\n",
       "      <td>1</td>\n",
       "      <td>3</td>\n",
       "      <td>Heikkinen, Miss. Laina</td>\n",
       "      <td>female</td>\n",
       "      <td>26.0</td>\n",
       "      <td>0</td>\n",
       "      <td>0</td>\n",
       "      <td>STON/O2. 3101282</td>\n",
       "      <td>7.9250</td>\n",
       "      <td>NaN</td>\n",
       "      <td>S</td>\n",
       "    </tr>\n",
       "    <tr>\n",
       "      <td>3</td>\n",
       "      <td>4</td>\n",
       "      <td>1</td>\n",
       "      <td>1</td>\n",
       "      <td>Futrelle, Mrs. Jacques Heath (Lily May Peel)</td>\n",
       "      <td>female</td>\n",
       "      <td>35.0</td>\n",
       "      <td>1</td>\n",
       "      <td>0</td>\n",
       "      <td>113803</td>\n",
       "      <td>53.1000</td>\n",
       "      <td>C123</td>\n",
       "      <td>S</td>\n",
       "    </tr>\n",
       "    <tr>\n",
       "      <td>4</td>\n",
       "      <td>5</td>\n",
       "      <td>0</td>\n",
       "      <td>3</td>\n",
       "      <td>Allen, Mr. William Henry</td>\n",
       "      <td>male</td>\n",
       "      <td>35.0</td>\n",
       "      <td>0</td>\n",
       "      <td>0</td>\n",
       "      <td>373450</td>\n",
       "      <td>8.0500</td>\n",
       "      <td>NaN</td>\n",
       "      <td>S</td>\n",
       "    </tr>\n",
       "  </tbody>\n",
       "</table>\n",
       "</div>"
      ],
      "text/plain": [
       "   PassengerId  Survived  Pclass  \\\n",
       "0            1         0       3   \n",
       "1            2         1       1   \n",
       "2            3         1       3   \n",
       "3            4         1       1   \n",
       "4            5         0       3   \n",
       "\n",
       "                                                Name     Sex   Age  SibSp  \\\n",
       "0                            Braund, Mr. Owen Harris    male  22.0      1   \n",
       "1  Cumings, Mrs. John Bradley (Florence Briggs Th...  female  38.0      1   \n",
       "2                             Heikkinen, Miss. Laina  female  26.0      0   \n",
       "3       Futrelle, Mrs. Jacques Heath (Lily May Peel)  female  35.0      1   \n",
       "4                           Allen, Mr. William Henry    male  35.0      0   \n",
       "\n",
       "   Parch            Ticket     Fare Cabin Embarked  \n",
       "0      0         A/5 21171   7.2500   NaN        S  \n",
       "1      0          PC 17599  71.2833   C85        C  \n",
       "2      0  STON/O2. 3101282   7.9250   NaN        S  \n",
       "3      0            113803  53.1000  C123        S  \n",
       "4      0            373450   8.0500   NaN        S  "
      ]
     },
     "execution_count": 12,
     "metadata": {},
     "output_type": "execute_result"
    }
   ],
   "source": [
    "# df_titanic DataFrame의 상단 부분을 출력합니다.\n",
    "df_titanic.head()"
   ]
  },
  {
   "cell_type": "markdown",
   "id": "cd17a659",
   "metadata": {},
   "source": [
    "보통 여러 개의 Series가 모여 DataFrame을 구성합니다."
   ]
  },
  {
   "cell_type": "code",
   "execution_count": 13,
   "id": "84eccac4",
   "metadata": {},
   "outputs": [
    {
     "data": {
      "text/plain": [
       "0        1\n",
       "1        2\n",
       "2        3\n",
       "3        4\n",
       "4        5\n",
       "      ... \n",
       "886    887\n",
       "887    888\n",
       "888    889\n",
       "889    890\n",
       "890    891\n",
       "Name: PassengerId, Length: 891, dtype: int64"
      ]
     },
     "execution_count": 13,
     "metadata": {},
     "output_type": "execute_result"
    }
   ],
   "source": [
    "# DataFrame의 하나의 컬럼은 Series입니다.\n",
    "\n",
    "df_titanic['PassengerId']"
   ]
  },
  {
   "cell_type": "code",
   "execution_count": 14,
   "id": "d25e3d1d",
   "metadata": {},
   "outputs": [
    {
     "data": {
      "text/plain": [
       "PassengerId                          1\n",
       "Survived                             0\n",
       "Pclass                               3\n",
       "Name           Braund, Mr. Owen Harris\n",
       "Sex                               male\n",
       "Age                                 22\n",
       "SibSp                                1\n",
       "Parch                                0\n",
       "Ticket                       A/5 21171\n",
       "Fare                              7.25\n",
       "Cabin                              NaN\n",
       "Embarked                             S\n",
       "Name: 0, dtype: object"
      ]
     },
     "execution_count": 14,
     "metadata": {},
     "output_type": "execute_result"
    }
   ],
   "source": [
    "# DataFrame의 하나의 행 또한 Sereis입니다.\n",
    "\n",
    "df_titanic.iloc[0]"
   ]
  },
  {
   "cell_type": "markdown",
   "id": "fb0c6cbf",
   "metadata": {},
   "source": [
    "데이터 분석 실력 및 Level 3에 가장 중요한 포인트\n",
    "\n",
    "- 데이터(프레임) 처리 능력\n"
   ]
  },
  {
   "cell_type": "markdown",
   "id": "c852864f",
   "metadata": {},
   "source": [
    "## 3. 빅데이터\n",
    "\n",
    "### 3V (Volume, Velocity, Variety)\n",
    "\n",
    "1. Volume(양) : 데이터의 규모나 양을 나타냅니다.\n",
    "\n",
    "\n",
    "2. Velocity(속도): 데이터가 생성, 수집, 그리고 분석되는 속도를 나타냅니다.\n",
    "\n",
    "\n",
    "3. Variety(다양성): 데이터 형식의 다양함을 나타냅니다.\n",
    "\n",
    "\n",
    "###  5V (3V + Veracity, Value)\n",
    "\n",
    "4. Veracity(정확성) : 데이터의 정확성과 신뢰성을 나타냅니다.\n",
    "\n",
    "\n",
    "5. Value(가치): 데이터를 통해 얻을 수 있는 가치를 나타냅니다."
   ]
  },
  {
   "cell_type": "markdown",
   "id": "0df73be1",
   "metadata": {},
   "source": [
    "## 4. 모델\n",
    "\n",
    "- **모델**(모형)의 사전적 의미: 대상을 근사화한 객체\n",
    "\n",
    "\n",
    "- 통계 / 머신 러닝 관점에서의 의미\n",
    "\n",
    "\n",
    "    데이터의 근사화 → 데이터에 드러난 패턴/지식을 근사화한 객체"
   ]
  },
  {
   "cell_type": "code",
   "execution_count": null,
   "id": "5d8aaa39",
   "metadata": {},
   "outputs": [],
   "source": []
  }
 ],
 "metadata": {
  "kernelspec": {
   "display_name": "Python 3 (ipykernel)",
   "language": "python",
   "name": "python3"
  },
  "language_info": {
   "codemirror_mode": {
    "name": "ipython",
    "version": 3
   },
   "file_extension": ".py",
   "mimetype": "text/x-python",
   "name": "python",
   "nbconvert_exporter": "python",
   "pygments_lexer": "ipython3",
   "version": "3.7.4"
  }
 },
 "nbformat": 4,
 "nbformat_minor": 5
}
